{
 "cells": [
  {
   "cell_type": "code",
   "execution_count": null,
   "id": "3b4ced46",
   "metadata": {},
   "outputs": [],
   "source": [
    "pip install pytesseract openpyxl\n"
   ]
  },
  {
   "cell_type": "code",
   "execution_count": null,
   "id": "083de344",
   "metadata": {},
   "outputs": [],
   "source": [
    "from PIL import Image\n",
    "import pytesseract\n",
    "import os\n",
    "\n",
    "screenshot_folder = 'path/to/screenshots'\n",
    "\n",
    "def extract_text_from_screenshot(image_path):\n",
    "    image = Image.open(image_path)\n",
    "    text = pytesseract.image_to_string(image)\n",
    "    return text\n",
    "\n",
    "screenshot_files = os.listdir(screenshot_folder)\n",
    "\n",
    "extracted_data = []\n",
    "for file in screenshot_files:\n",
    "    if file.endswith('.png') or file.endswith('.jpg'):\n",
    "        image_path = os.path.join(screenshot_folder, file)\n",
    "        text = extract_text_from_screenshot(image_path)\n",
    "        extracted_data.append({'File': file, 'Text': text})\n"
   ]
  },
  {
   "cell_type": "code",
   "execution_count": null,
   "id": "033c205a",
   "metadata": {},
   "outputs": [],
   "source": [
    "from openpyxl import Workbook\n",
    "\n",
    "workbook = Workbook()\n",
    "sheet = workbook.active\n",
    "\n",
    "# Write headers\n",
    "sheet['A1'] = 'File'\n",
    "sheet['B1'] = 'Text'\n",
    "\n",
    "# Write data\n",
    "for row_idx, data in enumerate(extracted_data, start=2):\n",
    "    sheet.cell(row=row_idx, column=1, value=data['File'])\n",
    "    sheet.cell(row=row_idx, column=2, value=data['Text'])\n",
    "\n",
    "# Save the workbook\n",
    "workbook.save('extracted_data.xlsx')"
   ]
  }
 ],
 "metadata": {
  "kernelspec": {
   "display_name": "Python 3 (ipykernel)",
   "language": "python",
   "name": "python3"
  },
  "language_info": {
   "codemirror_mode": {
    "name": "ipython",
    "version": 3
   },
   "file_extension": ".py",
   "mimetype": "text/x-python",
   "name": "python",
   "nbconvert_exporter": "python",
   "pygments_lexer": "ipython3",
   "version": "3.9.12"
  }
 },
 "nbformat": 4,
 "nbformat_minor": 5
}
