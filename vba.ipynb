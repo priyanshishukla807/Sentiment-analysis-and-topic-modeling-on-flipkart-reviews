{
 "cells": [
  {
   "cell_type": "code",
   "execution_count": null,
   "id": "2fec34cd",
   "metadata": {},
   "outputs": [],
   "source": [
    "import pandas as pd\n",
    "from datetime import datetime, timedelta\n",
    "\n",
    "# Assuming your data is in a DataFrame named 'df'\n",
    "# Replace this with your actual DataFrame and column names\n",
    "sheet_name = 'YourSheetName'\n",
    "date_column1 = 'Date1'\n",
    "date_column2 = 'Date2'\n",
    "\n",
    "# Get the current date\n",
    "end_date = datetime.now().strftime(\"%m/%d/%Y\")\n",
    "\n",
    "# Calculate start date as two years prior to end date\n",
    "start_date = (datetime.now() - timedelta(days=365 * 2)).strftime(\"%m/%d/%Y\")\n",
    "\n",
    "# Construct the SQL-like query\n",
    "query = f\"{sheet_name}${date_column1} >= '{start_date}' and {sheet_name}${date_column1} <= '{end_date}' or \" \\\n",
    "        f\"{sheet_name}${date_column2} >= '{start_date}' and {sheet_name}${date_column2} <= '{end_date}'\"\n",
    "\n",
    "# Read the data from Excel into a DataFrame\n",
    "df = pd.read_excel('your_excel_file.xlsx', sheet_name=sheet_name)\n",
    "\n",
    "# Execute the query and filter the DataFrame\n",
    "result_df = df.query(query)\n",
    "\n",
    "# Print or use the filtered DataFrame as needed\n",
    "print(result_df)\n"
   ]
  }
 ],
 "metadata": {
  "kernelspec": {
   "display_name": "Python 3 (ipykernel)",
   "language": "python",
   "name": "python3"
  },
  "language_info": {
   "codemirror_mode": {
    "name": "ipython",
    "version": 3
   },
   "file_extension": ".py",
   "mimetype": "text/x-python",
   "name": "python",
   "nbconvert_exporter": "python",
   "pygments_lexer": "ipython3",
   "version": "3.9.12"
  }
 },
 "nbformat": 4,
 "nbformat_minor": 5
}
